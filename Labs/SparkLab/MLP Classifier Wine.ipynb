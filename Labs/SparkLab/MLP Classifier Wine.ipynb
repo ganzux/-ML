{
 "cells": [
  {
   "cell_type": "markdown",
   "metadata": {},
   "source": [
    "# Neural Networks - MultiLayerPerceptron"
   ]
  },
  {
   "cell_type": "markdown",
   "metadata": {},
   "source": [
    "# Wine Dataset\n",
    "## Wines are categorized into 3 customer segments based on featuers listed below:\n",
    "### Features are:\n",
    "\n",
    "<ol>\n",
    "    <li>Alcohol</li>\n",
    "    <li>Malic acid</li>\n",
    "    <li>Ash</li>\n",
    "    <li>Alcalinity of ash</li>\n",
    "    <li>Magnesium</li>\n",
    "    <li>Total phenols</li>\n",
    "    <li>Flavanoids</li>\n",
    "    <li>Nonflavanoid phenols</li>\n",
    "    <li>Proanthocyanins</li>\n",
    "    <li>Color intensity</li>\n",
    "    <li>Hue</li>\n",
    "    <li>OD280/OD315 of diluted wines</li>\n",
    "    <li>Proline </li>\n",
    "    </ol>\n",
    "</font>\n"
   ]
  },
  {
   "cell_type": "code",
   "execution_count": null,
   "metadata": {},
   "outputs": [],
   "source": [
    "import numpy as np\n",
    "import matplotlib.pyplot as plt\n",
    "from matplotlib.colors import ListedColormap\n",
    "import seaborn as sns\n",
    "import pandas as pd\n",
    "\n",
    "import warnings\n",
    "warnings.filterwarnings('ignore')"
   ]
  },
  {
   "cell_type": "code",
   "execution_count": null,
   "metadata": {},
   "outputs": [],
   "source": [
    "# Set up the environment for using pyspark\n",
    "import findspark\n",
    "findspark.init()"
   ]
  },
  {
   "cell_type": "code",
   "execution_count": null,
   "metadata": {},
   "outputs": [],
   "source": [
    "from pyspark.sql import SparkSession\n",
    "from pyspark import SparkConf, SparkContext\n",
    "from pyspark.ml.linalg import Vectors\n",
    "from pyspark.ml.feature import StringIndexer, VectorIndexer"
   ]
  },
  {
   "cell_type": "code",
   "execution_count": null,
   "metadata": {},
   "outputs": [],
   "source": [
    "# Create Application Context\n",
    "spark = SparkSession.builder.appName(\"Wine Dataset MLP\").getOrCreate()\n",
    "sc = spark.sparkContext\n",
    "sc.setLogLevel(\"Error\")"
   ]
  },
  {
   "cell_type": "code",
   "execution_count": null,
   "metadata": {},
   "outputs": [],
   "source": [
    "sdf = spark.read.format('csv').options(header='true', inferSchema='true').load('../datasets/Wine.csv')"
   ]
  },
  {
   "cell_type": "code",
   "execution_count": null,
   "metadata": {},
   "outputs": [],
   "source": [
    "sdf.printSchema()"
   ]
  },
  {
   "cell_type": "code",
   "execution_count": null,
   "metadata": {},
   "outputs": [],
   "source": [
    "sdf.show(3)"
   ]
  },
  {
   "cell_type": "markdown",
   "metadata": {},
   "source": [
    "<font color = 'tomato'>\n",
    "<h3>Data preparation</h3>\n",
    "1. Convert the Customer_Segment (string) to label (number) <br>\n",
    "2. Create features using Vector Assembler<br>\n",
    "3. Create training and test set <br>\n",
    "</font>"
   ]
  },
  {
   "cell_type": "code",
   "execution_count": null,
   "metadata": {},
   "outputs": [],
   "source": []
  },
  {
   "cell_type": "markdown",
   "metadata": {},
   "source": [
    "<font color = 'tomato'>\n",
    "    <h3>Use MultiLayerPerceptron Classifier </h3>\n",
    "    <ol>\n",
    "        <li>Create MultiLayerPerceptronClassifier instance</li>\n",
    "        <li>Make sure to define layers</li>\n",
    "        <li>Fit the transformed features</li>\n",
    "        <li>Transform the model</li>\n",
    "        <li>Evaluate the model using multi-class classification evaluator</li>\n",
    "        <li>Print Test Data accuracy</li>\n",
    "        <li>Create Confusion Matrix</li>\n",
    "    </ol>\n",
    "</font>"
   ]
  },
  {
   "cell_type": "code",
   "execution_count": null,
   "metadata": {},
   "outputs": [],
   "source": [
    "from pyspark.ml.classification import MultilayerPerceptronClassifier\n",
    "from pyspark.ml.evaluation import MulticlassClassificationEvaluator"
   ]
  },
  {
   "cell_type": "code",
   "execution_count": null,
   "metadata": {},
   "outputs": [],
   "source": []
  }
 ],
 "metadata": {
  "kernelspec": {
   "display_name": "Python 3",
   "language": "python",
   "name": "python3"
  },
  "language_info": {
   "codemirror_mode": {
    "name": "ipython",
    "version": 3
   },
   "file_extension": ".py",
   "mimetype": "text/x-python",
   "name": "python",
   "nbconvert_exporter": "python",
   "pygments_lexer": "ipython3",
   "version": "3.7.6"
  }
 },
 "nbformat": 4,
 "nbformat_minor": 4
}
